{
 "cells": [
  {
   "cell_type": "code",
   "execution_count": 1,
   "metadata": {},
   "outputs": [],
   "source": [
    "import numpy as np\n",
    "import pandas as pd\n",
    "import cv2\n",
    "import tensorflow as tf \n",
    "import requests\n",
    "\n",
    "from tensorflow.keras.callbacks import ModelCheckpoint\n",
    "from sklearn.model_selection import train_test_split\n",
    "from keras.models import Sequential\n",
    "from keras.layers import Dense, Activation, Conv2D, MaxPooling2D,Flatten,Dropout,MaxPool2D, BatchNormalization\n",
    "from sklearn import metrics"
   ]
  },
  {
   "cell_type": "code",
   "execution_count": 2,
   "metadata": {},
   "outputs": [
    {
     "data": {
      "text/html": [
       "<div>\n",
       "<style scoped>\n",
       "    .dataframe tbody tr th:only-of-type {\n",
       "        vertical-align: middle;\n",
       "    }\n",
       "\n",
       "    .dataframe tbody tr th {\n",
       "        vertical-align: top;\n",
       "    }\n",
       "\n",
       "    .dataframe thead th {\n",
       "        text-align: right;\n",
       "    }\n",
       "</style>\n",
       "<table border=\"1\" class=\"dataframe\">\n",
       "  <thead>\n",
       "    <tr style=\"text-align: right;\">\n",
       "      <th></th>\n",
       "      <th>Unnamed: 0</th>\n",
       "      <th>Sentence</th>\n",
       "      <th>Label</th>\n",
       "    </tr>\n",
       "  </thead>\n",
       "  <tbody>\n",
       "    <tr>\n",
       "      <th>0</th>\n",
       "      <td>0</td>\n",
       "      <td>&lt;li&gt;&lt;a href=\"/wiki/File:Socrates.png\" class=\"i...</td>\n",
       "      <td>0</td>\n",
       "    </tr>\n",
       "    <tr>\n",
       "      <th>1</th>\n",
       "      <td>1</td>\n",
       "      <td>&lt;tt onmouseover=\"alert(1)\"&gt;test&lt;/tt&gt;</td>\n",
       "      <td>1</td>\n",
       "    </tr>\n",
       "    <tr>\n",
       "      <th>2</th>\n",
       "      <td>2</td>\n",
       "      <td>\\t &lt;/span&gt; &lt;span class=\"reference-text\"&gt;Steeri...</td>\n",
       "      <td>0</td>\n",
       "    </tr>\n",
       "    <tr>\n",
       "      <th>3</th>\n",
       "      <td>3</td>\n",
       "      <td>\\t &lt;/span&gt; &lt;span class=\"reference-text\"&gt;&lt;cite ...</td>\n",
       "      <td>0</td>\n",
       "    </tr>\n",
       "    <tr>\n",
       "      <th>4</th>\n",
       "      <td>4</td>\n",
       "      <td>\\t &lt;/span&gt;. &lt;a href=\"/wiki/Digital_object_iden...</td>\n",
       "      <td>0</td>\n",
       "    </tr>\n",
       "  </tbody>\n",
       "</table>\n",
       "</div>"
      ],
      "text/plain": [
       "   Unnamed: 0                                           Sentence  Label\n",
       "0           0  <li><a href=\"/wiki/File:Socrates.png\" class=\"i...      0\n",
       "1           1               <tt onmouseover=\"alert(1)\">test</tt>      1\n",
       "2           2  \\t </span> <span class=\"reference-text\">Steeri...      0\n",
       "3           3  \\t </span> <span class=\"reference-text\"><cite ...      0\n",
       "4           4  \\t </span>. <a href=\"/wiki/Digital_object_iden...      0"
      ]
     },
     "execution_count": 2,
     "metadata": {},
     "output_type": "execute_result"
    }
   ],
   "source": [
    "df=pd.read_csv('../datasets/xss.csv', encoding='utf-8-sig')\n",
    "\n",
    "df.head(5)"
   ]
  },
  {
   "cell_type": "code",
   "execution_count": 3,
   "metadata": {},
   "outputs": [
    {
     "data": {
      "text/html": [
       "<div>\n",
       "<style scoped>\n",
       "    .dataframe tbody tr th:only-of-type {\n",
       "        vertical-align: middle;\n",
       "    }\n",
       "\n",
       "    .dataframe tbody tr th {\n",
       "        vertical-align: top;\n",
       "    }\n",
       "\n",
       "    .dataframe thead th {\n",
       "        text-align: right;\n",
       "    }\n",
       "</style>\n",
       "<table border=\"1\" class=\"dataframe\">\n",
       "  <thead>\n",
       "    <tr style=\"text-align: right;\">\n",
       "      <th></th>\n",
       "      <th>Sentence</th>\n",
       "      <th>Label</th>\n",
       "    </tr>\n",
       "  </thead>\n",
       "  <tbody>\n",
       "    <tr>\n",
       "      <th>0</th>\n",
       "      <td>&lt;li&gt;&lt;a href=\"/wiki/File:Socrates.png\" class=\"i...</td>\n",
       "      <td>0</td>\n",
       "    </tr>\n",
       "    <tr>\n",
       "      <th>1</th>\n",
       "      <td>&lt;tt onmouseover=\"alert(1)\"&gt;test&lt;/tt&gt;</td>\n",
       "      <td>1</td>\n",
       "    </tr>\n",
       "    <tr>\n",
       "      <th>2</th>\n",
       "      <td>\\t &lt;/span&gt; &lt;span class=\"reference-text\"&gt;Steeri...</td>\n",
       "      <td>0</td>\n",
       "    </tr>\n",
       "    <tr>\n",
       "      <th>3</th>\n",
       "      <td>\\t &lt;/span&gt; &lt;span class=\"reference-text\"&gt;&lt;cite ...</td>\n",
       "      <td>0</td>\n",
       "    </tr>\n",
       "    <tr>\n",
       "      <th>4</th>\n",
       "      <td>\\t &lt;/span&gt;. &lt;a href=\"/wiki/Digital_object_iden...</td>\n",
       "      <td>0</td>\n",
       "    </tr>\n",
       "  </tbody>\n",
       "</table>\n",
       "</div>"
      ],
      "text/plain": [
       "                                            Sentence  Label\n",
       "0  <li><a href=\"/wiki/File:Socrates.png\" class=\"i...      0\n",
       "1               <tt onmouseover=\"alert(1)\">test</tt>      1\n",
       "2  \\t </span> <span class=\"reference-text\">Steeri...      0\n",
       "3  \\t </span> <span class=\"reference-text\"><cite ...      0\n",
       "4  \\t </span>. <a href=\"/wiki/Digital_object_iden...      0"
      ]
     },
     "execution_count": 3,
     "metadata": {},
     "output_type": "execute_result"
    }
   ],
   "source": [
    "df=df[df.columns[-2:]]\n",
    "\n",
    "df.head(5)"
   ]
  },
  {
   "cell_type": "code",
   "execution_count": 4,
   "metadata": {},
   "outputs": [],
   "source": [
    "sentences=df['Sentence'].values"
   ]
  },
  {
   "cell_type": "code",
   "execution_count": 5,
   "metadata": {},
   "outputs": [],
   "source": [
    "def convert_to_ascii(sentence):\n",
    "    sentence_ascii = []\n",
    "\n",
    "    for i in sentence:\n",
    "        if ord(i) < 8222:\n",
    "            sentence_ascii.append(134)\n",
    "        if ord(i) == 8221: \n",
    "            sentence_ascii.append(129)\n",
    "        if ord(i) == 8220: \n",
    "            sentence_ascii.append(130)\n",
    "        if ord(i) == 8216:\n",
    "            sentence_ascii.append(131)\n",
    "        if ord(i) == 8217: \n",
    "            sentence_ascii.append(132)\n",
    "        if ord(i) == 8211: \n",
    "            sentence_ascii.append(133)\n",
    "\n",
    "        if ord(i) <= 128:\n",
    "            sentence_ascii.append(ord(i))\n",
    "\n",
    "    if len(sentence_ascii) > 10000:\n",
    "        sentence_ascii = sentence_ascii[:10000]\n",
    "    else:\n",
    "        sentence_ascii += [0] * (10000 - len(sentence_ascii))\n",
    "    \n",
    "    zer = np.array(sentence_ascii).reshape((100, 100))\n",
    "    return zer"
   ]
  },
  {
   "cell_type": "code",
   "execution_count": 6,
   "metadata": {},
   "outputs": [],
   "source": [
    "arr=np.zeros((len(sentences),100,100))\n",
    "\n",
    "for i in range(len(sentences)):\n",
    "    \n",
    "    image=convert_to_ascii(sentences[i])\n",
    "\n",
    "    x=np.asarray(image,dtype='float')\n",
    "    image =  cv2.resize(x, dsize=(100,100), interpolation=cv2.INTER_CUBIC)\n",
    "    image/=128\n",
    "\n",
    "    arr[i]=image"
   ]
  },
  {
   "cell_type": "code",
   "execution_count": 7,
   "metadata": {},
   "outputs": [],
   "source": [
    "data = arr.reshape(arr.shape[0], 100, 100, 1)"
   ]
  },
  {
   "cell_type": "code",
   "execution_count": 8,
   "metadata": {},
   "outputs": [
    {
     "data": {
      "text/plain": [
       "(13686, 100, 100, 1)"
      ]
     },
     "execution_count": 8,
     "metadata": {},
     "output_type": "execute_result"
    }
   ],
   "source": [
    "data.shape"
   ]
  },
  {
   "cell_type": "code",
   "execution_count": 9,
   "metadata": {},
   "outputs": [],
   "source": [
    "y=df['Label'].values"
   ]
  },
  {
   "cell_type": "code",
   "execution_count": 10,
   "metadata": {},
   "outputs": [],
   "source": [
    "trainX, testX, trainY, testY = train_test_split(data,y, test_size=0.2, random_state=42)\n",
    "trainX, validX, trainY, validY = train_test_split(trainX,trainY, test_size=0.2, random_state=42)"
   ]
  },
  {
   "cell_type": "code",
   "execution_count": 11,
   "metadata": {},
   "outputs": [],
   "source": [
    "model=tf.keras.models.Sequential([\n",
    "    tf.keras.layers.Conv2D(64,(3,3), activation=tf.nn.relu, input_shape=(100,100,1)),\n",
    "    tf.keras.layers.MaxPooling2D(2,2),\n",
    "    \n",
    "    tf.keras.layers.Conv2D(128,(3,3), activation='relu'),\n",
    "    tf.keras.layers.MaxPooling2D(2,2),\n",
    "    \n",
    "    tf.keras.layers.Conv2D(256,(3,3), activation='relu'),\n",
    "    tf.keras.layers.MaxPooling2D(2,2),\n",
    "    \n",
    "    tf.keras.layers.Flatten(),\n",
    "    tf.keras.layers.Dense(256, activation='relu'),\n",
    "    tf.keras.layers.Dense(128, activation='relu'),\n",
    "    tf.keras.layers.Dense(64, activation='relu'),\n",
    "    tf.keras.layers.Dense(1, activation='sigmoid')\n",
    "])"
   ]
  },
  {
   "cell_type": "code",
   "execution_count": 12,
   "metadata": {},
   "outputs": [
    {
     "name": "stdout",
     "output_type": "stream",
     "text": [
      "Model: \"sequential\"\n",
      "_________________________________________________________________\n",
      " Layer (type)                Output Shape              Param #   \n",
      "=================================================================\n",
      " conv2d (Conv2D)             (None, 98, 98, 64)        640       \n",
      "                                                                 \n",
      " max_pooling2d (MaxPooling2  (None, 49, 49, 64)        0         \n",
      " D)                                                              \n",
      "                                                                 \n",
      " conv2d_1 (Conv2D)           (None, 47, 47, 128)       73856     \n",
      "                                                                 \n",
      " max_pooling2d_1 (MaxPoolin  (None, 23, 23, 128)       0         \n",
      " g2D)                                                            \n",
      "                                                                 \n",
      " conv2d_2 (Conv2D)           (None, 21, 21, 256)       295168    \n",
      "                                                                 \n",
      " max_pooling2d_2 (MaxPoolin  (None, 10, 10, 256)       0         \n",
      " g2D)                                                            \n",
      "                                                                 \n",
      " flatten (Flatten)           (None, 25600)             0         \n",
      "                                                                 \n",
      " dense (Dense)               (None, 256)               6553856   \n",
      "                                                                 \n",
      " dense_1 (Dense)             (None, 128)               32896     \n",
      "                                                                 \n",
      " dense_2 (Dense)             (None, 64)                8256      \n",
      "                                                                 \n",
      " dense_3 (Dense)             (None, 1)                 65        \n",
      "                                                                 \n",
      "=================================================================\n",
      "Total params: 6964737 (26.57 MB)\n",
      "Trainable params: 6964737 (26.57 MB)\n",
      "Non-trainable params: 0 (0.00 Byte)\n",
      "_________________________________________________________________\n"
     ]
    }
   ],
   "source": [
    "model.compile(loss='binary_crossentropy', \n",
    "              optimizer='adam', \n",
    "              metrics=['accuracy'])\n",
    "model.summary()"
   ]
  },
  {
   "cell_type": "code",
   "execution_count": 13,
   "metadata": {},
   "outputs": [
    {
     "name": "stdout",
     "output_type": "stream",
     "text": [
      "Epoch 1/10\n",
      "69/69 [==============================] - 59s 855ms/step - loss: 0.4708 - accuracy: 0.7660 - val_loss: 0.3777 - val_accuracy: 0.8260\n",
      "Epoch 2/10\n",
      "69/69 [==============================] - 59s 859ms/step - loss: 0.3829 - accuracy: 0.8230 - val_loss: 0.3018 - val_accuracy: 0.8644\n",
      "Epoch 3/10\n",
      "69/69 [==============================] - 58s 847ms/step - loss: 0.1990 - accuracy: 0.9197 - val_loss: 0.1000 - val_accuracy: 0.9699\n",
      "Epoch 4/10\n",
      "69/69 [==============================] - 60s 865ms/step - loss: 0.0799 - accuracy: 0.9765 - val_loss: 0.1170 - val_accuracy: 0.9566\n",
      "Epoch 5/10\n",
      "69/69 [==============================] - 59s 860ms/step - loss: 0.0764 - accuracy: 0.9767 - val_loss: 0.0575 - val_accuracy: 0.9795\n",
      "Epoch 6/10\n",
      "69/69 [==============================] - 59s 850ms/step - loss: 0.0516 - accuracy: 0.9841 - val_loss: 0.0453 - val_accuracy: 0.9849\n",
      "Epoch 7/10\n",
      "69/69 [==============================] - 60s 865ms/step - loss: 0.0476 - accuracy: 0.9856 - val_loss: 0.0430 - val_accuracy: 0.9863\n",
      "Epoch 8/10\n",
      "69/69 [==============================] - 59s 852ms/step - loss: 0.0413 - accuracy: 0.9874 - val_loss: 0.0395 - val_accuracy: 0.9858\n",
      "Epoch 9/10\n",
      "69/69 [==============================] - 59s 849ms/step - loss: 0.0351 - accuracy: 0.9897 - val_loss: 0.0363 - val_accuracy: 0.9890\n",
      "Epoch 10/10\n",
      "69/69 [==============================] - 58s 845ms/step - loss: 0.0342 - accuracy: 0.9896 - val_loss: 0.0403 - val_accuracy: 0.9863\n"
     ]
    }
   ],
   "source": [
    "batch_size = 128\n",
    "num_epoch = 10\n",
    "\n",
    "mc = ModelCheckpoint('../models/xss.h5', save_best_only=True, save_weights_only=True)\n",
    "model_log = model.fit(trainX, trainY,\n",
    "          batch_size=batch_size,\n",
    "          epochs=num_epoch,\n",
    "          verbose=1,\n",
    "          validation_data=( validX,  validY),\n",
    "          callbacks=[mc]\n",
    "                     )"
   ]
  },
  {
   "cell_type": "code",
   "execution_count": 14,
   "metadata": {},
   "outputs": [
    {
     "name": "stdout",
     "output_type": "stream",
     "text": [
      "86/86 [==============================] - 5s 59ms/step\n",
      "              precision    recall  f1-score   support\n",
      "\n",
      "           0     0.9811    0.9873    0.9842      1260\n",
      "           1     0.9891    0.9838    0.9864      1478\n",
      "\n",
      "    accuracy                         0.9854      2738\n",
      "   macro avg     0.9851    0.9855    0.9853      2738\n",
      "weighted avg     0.9854    0.9854    0.9854      2738\n",
      "\n",
      "[[1244   16]\n",
      " [  24 1454]]\n",
      "      TPR       FPR       FNR\n",
      "   0.9838    0.0127    0.0162\n"
     ]
    }
   ],
   "source": [
    "model.load_weights('../models/xss.h5')\n",
    "\n",
    "y_prob = model.predict(testX)\n",
    "threshold = 0.5\n",
    "y_pred = (y_prob > threshold).astype(int)\n",
    "\n",
    "clf_report = metrics.classification_report(testY, y_pred, digits=4)\n",
    "cnf_matrix = metrics.confusion_matrix(testY, y_pred)\n",
    "TN, FP, FN, TP = cnf_matrix.ravel()\n",
    "TPR = TP / (TP + FN)\n",
    "FPR = FP / (FP + TN)\n",
    "FNR = FN / (FN + TP)\n",
    "\n",
    "other_metrics = pd.DataFrame({'TPR': '%.4f' % TPR, \n",
    "                              'FPR': '%.4f' % FPR, \n",
    "                              'FNR': '%.4f' % FNR\n",
    "                              }, index=[0]).to_string(col_space=9, index=False)\n",
    "print(clf_report)\n",
    "print(cnf_matrix)\n",
    "print(other_metrics)"
   ]
  },
  {
   "cell_type": "code",
   "execution_count": 21,
   "metadata": {},
   "outputs": [
    {
     "name": "stdout",
     "output_type": "stream",
     "text": [
      "1/1 [==============================] - 0s 15ms/step\n",
      "Prediction: 0\n"
     ]
    }
   ],
   "source": [
    "def xss_predict(model, sentence):\n",
    "    preprocessed_sentence = convert_to_ascii(sentence)\n",
    "    x = np.asarray(preprocessed_sentence, dtype='float')\n",
    "    x = cv2.resize(x, dsize=(100, 100), interpolation=cv2.INTER_CUBIC)\n",
    "    x /= 128\n",
    "    x = np.expand_dims(x, axis=0) \n",
    "    x = np.expand_dims(x, axis=-1) \n",
    "    \n",
    "    prediction = model.predict(x)\n",
    "    \n",
    "    return prediction[0][0]\n",
    "\n",
    "def get_html_from_url(url):\n",
    "    try:\n",
    "        response = requests.get(url)\n",
    "        response.raise_for_status()\n",
    "        return response.text\n",
    "    except requests.exceptions.RequestException as e:\n",
    "        print(\"Error while getting HTML\", e)\n",
    "        return None\n",
    "\n",
    "test_url = \"http://youtube.com\"\n",
    "\n",
    "your_sentence = get_html_from_url(test_url)\n",
    "prediction = xss_predict(model, your_sentence)\n",
    "if prediction > 0.5:\n",
    "    print(\"Prediction: 1\")\n",
    "else:\n",
    "    print(\"Prediction: 0\")\n"
   ]
  },
  {
   "cell_type": "code",
   "execution_count": 22,
   "metadata": {},
   "outputs": [
    {
     "name": "stdout",
     "output_type": "stream",
     "text": [
      "1/1 [==============================] - 0s 18ms/step\n",
      "Prediction: 1\n"
     ]
    }
   ],
   "source": [
    "def xss_predict(model, sentence):\n",
    "    preprocessed_sentence = convert_to_ascii(sentence)\n",
    "    x = np.asarray(preprocessed_sentence, dtype='float')\n",
    "    x = cv2.resize(x, dsize=(100, 100), interpolation=cv2.INTER_CUBIC)\n",
    "    x /= 128\n",
    "    x = np.expand_dims(x, axis=0) \n",
    "    x = np.expand_dims(x, axis=-1) \n",
    "    \n",
    "    prediction = model.predict(x)\n",
    "    \n",
    "    return prediction[0][0]\n",
    "\n",
    "your_sentence = \"<center draggable=\"\"true\"\" ondrag=\"\"alert(1)\"\">test</center>\"\n",
    "prediction = xss_predict(model, your_sentence)\n",
    "if prediction > 0.5:\n",
    "    print(\"Prediction: 1\")\n",
    "else:\n",
    "    print(\"Prediction: 0\")\n"
   ]
  }
 ],
 "metadata": {
  "kernelspec": {
   "display_name": "Python 3",
   "language": "python",
   "name": "python3"
  },
  "language_info": {
   "codemirror_mode": {
    "name": "ipython",
    "version": 3
   },
   "file_extension": ".py",
   "mimetype": "text/x-python",
   "name": "python",
   "nbconvert_exporter": "python",
   "pygments_lexer": "ipython3",
   "version": "3.11.8"
  }
 },
 "nbformat": 4,
 "nbformat_minor": 2
}
