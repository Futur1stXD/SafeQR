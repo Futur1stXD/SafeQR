{
 "cells": [
  {
   "cell_type": "code",
   "execution_count": 4,
   "metadata": {},
   "outputs": [],
   "source": [
    "import numpy as np\n",
    "import pandas as pd\n",
    "import cv2\n",
    "import tensorflow as tf \n",
    "import os\n",
    "import requests\n",
    "\n",
    "from tensorflow.keras.callbacks import ModelCheckpoint\n",
    "from sklearn.model_selection import train_test_split\n",
    "from keras.models import Sequential\n",
    "from keras.layers import Dense, Activation, Conv2D, MaxPooling2D,Flatten,Dropout,MaxPool2D, BatchNormalization\n",
    "from sklearn import metrics\n",
    "from bs4 import BeautifulSoup"
   ]
  },
  {
   "cell_type": "code",
   "execution_count": 5,
   "metadata": {},
   "outputs": [],
   "source": [
    "def load_data(phish_dir, not_phish_dir):\n",
    "    phish_files = [f for f in os.listdir(phish_dir) if f.endswith('.html')]\n",
    "    not_phish_files = [f for f in os.listdir(not_phish_dir) if f.endswith('.html')]\n",
    "\n",
    "    phish_texts = []\n",
    "    for f in phish_files:\n",
    "        with open(os.path.join(phish_dir, f), 'r', encoding='latin-1') as file:\n",
    "            soup = BeautifulSoup(file, 'html.parser')\n",
    "            text = soup.get_text()\n",
    "            phish_texts.append(text)\n",
    "\n",
    "    not_phish_texts = []\n",
    "    for f in not_phish_files:\n",
    "        with open(os.path.join(not_phish_dir, f), 'r', encoding='latin-1') as file:\n",
    "            soup = BeautifulSoup(file, 'html.parser')\n",
    "            text = soup.get_text()\n",
    "            not_phish_texts.append(text)\n",
    "\n",
    "    return phish_texts, not_phish_texts\n"
   ]
  },
  {
   "cell_type": "code",
   "execution_count": 6,
   "metadata": {},
   "outputs": [],
   "source": [
    "phish_texts, not_phish_texts = load_data('../datasets/phishing-web/Phish', '../datasets/phishing-web/NotPhish')\n",
    "\n",
    "labels = [1] * len(phish_texts) + [0] * len(not_phish_texts)\n",
    "\n",
    "df = pd.DataFrame({\"Sentence\": phish_texts + not_phish_texts, \"Label\": labels})"
   ]
  },
  {
   "cell_type": "code",
   "execution_count": 7,
   "metadata": {},
   "outputs": [],
   "source": [
    "sentences=df['Sentence'].values"
   ]
  },
  {
   "cell_type": "code",
   "execution_count": 8,
   "metadata": {},
   "outputs": [],
   "source": [
    "def convert_to_ascii(sentence):\n",
    "    sentence_ascii = []\n",
    "\n",
    "    for i in sentence:\n",
    "        if ord(i) < 8222:\n",
    "            sentence_ascii.append(134)\n",
    "        if ord(i) == 8221: \n",
    "            sentence_ascii.append(129)\n",
    "        if ord(i) == 8220: \n",
    "            sentence_ascii.append(130)\n",
    "        if ord(i) == 8216:\n",
    "            sentence_ascii.append(131)\n",
    "        if ord(i) == 8217: \n",
    "            sentence_ascii.append(132)\n",
    "        if ord(i) == 8211: \n",
    "            sentence_ascii.append(133)\n",
    "\n",
    "        if ord(i) <= 128:\n",
    "            sentence_ascii.append(ord(i))\n",
    "\n",
    "    if len(sentence_ascii) > 10000:\n",
    "        sentence_ascii = sentence_ascii[:10000]\n",
    "    else:\n",
    "        sentence_ascii += [0] * (10000 - len(sentence_ascii))\n",
    "    \n",
    "    zer = np.array(sentence_ascii).reshape((100, 100))\n",
    "    return zer\n"
   ]
  },
  {
   "cell_type": "code",
   "execution_count": 9,
   "metadata": {},
   "outputs": [],
   "source": [
    "arr=np.zeros((len(sentences),100,100))\n",
    "\n",
    "for i in range(len(sentences)):\n",
    "    \n",
    "    image=convert_to_ascii(sentences[i])\n",
    "\n",
    "    x=np.asarray(image,dtype='float')\n",
    "    image =  cv2.resize(x, dsize=(100,100), interpolation=cv2.INTER_CUBIC)\n",
    "    image/=128\n",
    "\n",
    "    arr[i]=image"
   ]
  },
  {
   "cell_type": "code",
   "execution_count": 10,
   "metadata": {},
   "outputs": [
    {
     "data": {
      "text/plain": [
       "(10355, 100, 100, 1)"
      ]
     },
     "execution_count": 10,
     "metadata": {},
     "output_type": "execute_result"
    }
   ],
   "source": [
    "data = arr.reshape(arr.shape[0], 100, 100, 1)\n",
    "data.shape"
   ]
  },
  {
   "cell_type": "code",
   "execution_count": 11,
   "metadata": {},
   "outputs": [],
   "source": [
    "y=df['Label'].values\n",
    "\n",
    "trainX, testX, trainY, testY = train_test_split(data,y, test_size=0.2, random_state=42)\n",
    "trainX, validX, trainY, validY = train_test_split(trainX,trainY, test_size=0.2, random_state=42)"
   ]
  },
  {
   "cell_type": "code",
   "execution_count": 12,
   "metadata": {},
   "outputs": [],
   "source": [
    "model=tf.keras.models.Sequential([\n",
    "    tf.keras.layers.Conv2D(64,(3,3), activation=tf.nn.relu, input_shape=(100,100,1)),\n",
    "    tf.keras.layers.MaxPooling2D(2,2),\n",
    "    \n",
    "    tf.keras.layers.Conv2D(128,(3,3), activation='relu'),\n",
    "    tf.keras.layers.MaxPooling2D(2,2),\n",
    "    \n",
    "    tf.keras.layers.Conv2D(256,(3,3), activation='relu'),\n",
    "    tf.keras.layers.MaxPooling2D(2,2),\n",
    "    \n",
    "    tf.keras.layers.Flatten(),\n",
    "    tf.keras.layers.Dense(256, activation='relu'),\n",
    "    tf.keras.layers.Dense(128, activation='relu'),\n",
    "    tf.keras.layers.Dense(64, activation='relu'),\n",
    "    tf.keras.layers.Dense(1, activation='sigmoid')\n",
    "])"
   ]
  },
  {
   "cell_type": "code",
   "execution_count": 13,
   "metadata": {},
   "outputs": [
    {
     "name": "stdout",
     "output_type": "stream",
     "text": [
      "Model: \"sequential\"\n",
      "_________________________________________________________________\n",
      " Layer (type)                Output Shape              Param #   \n",
      "=================================================================\n",
      " conv2d (Conv2D)             (None, 98, 98, 64)        640       \n",
      "                                                                 \n",
      " max_pooling2d (MaxPooling2  (None, 49, 49, 64)        0         \n",
      " D)                                                              \n",
      "                                                                 \n",
      " conv2d_1 (Conv2D)           (None, 47, 47, 128)       73856     \n",
      "                                                                 \n",
      " max_pooling2d_1 (MaxPoolin  (None, 23, 23, 128)       0         \n",
      " g2D)                                                            \n",
      "                                                                 \n",
      " conv2d_2 (Conv2D)           (None, 21, 21, 256)       295168    \n",
      "                                                                 \n",
      " max_pooling2d_2 (MaxPoolin  (None, 10, 10, 256)       0         \n",
      " g2D)                                                            \n",
      "                                                                 \n",
      " flatten (Flatten)           (None, 25600)             0         \n",
      "                                                                 \n",
      " dense (Dense)               (None, 256)               6553856   \n",
      "                                                                 \n",
      " dense_1 (Dense)             (None, 128)               32896     \n",
      "                                                                 \n",
      " dense_2 (Dense)             (None, 64)                8256      \n",
      "                                                                 \n",
      " dense_3 (Dense)             (None, 1)                 65        \n",
      "                                                                 \n",
      "=================================================================\n",
      "Total params: 6964737 (26.57 MB)\n",
      "Trainable params: 6964737 (26.57 MB)\n",
      "Non-trainable params: 0 (0.00 Byte)\n",
      "_________________________________________________________________\n"
     ]
    }
   ],
   "source": [
    "model.compile(loss='binary_crossentropy', \n",
    "              optimizer='adam', \n",
    "              metrics=['accuracy'])\n",
    "model.summary()"
   ]
  },
  {
   "cell_type": "code",
   "execution_count": 14,
   "metadata": {},
   "outputs": [
    {
     "name": "stdout",
     "output_type": "stream",
     "text": [
      "Epoch 1/10\n",
      "52/52 [==============================] - 45s 865ms/step - loss: 0.4822 - accuracy: 0.8016 - val_loss: 0.4467 - val_accuracy: 0.8256\n",
      "Epoch 2/10\n",
      "52/52 [==============================] - 44s 851ms/step - loss: 0.3979 - accuracy: 0.8354 - val_loss: 0.4067 - val_accuracy: 0.8328\n",
      "Epoch 3/10\n",
      "52/52 [==============================] - 45s 857ms/step - loss: 0.3801 - accuracy: 0.8482 - val_loss: 0.4026 - val_accuracy: 0.8358\n",
      "Epoch 4/10\n",
      "52/52 [==============================] - 44s 856ms/step - loss: 0.3627 - accuracy: 0.8545 - val_loss: 0.4072 - val_accuracy: 0.8352\n",
      "Epoch 5/10\n",
      "52/52 [==============================] - 45s 859ms/step - loss: 0.3483 - accuracy: 0.8592 - val_loss: 0.4526 - val_accuracy: 0.8171\n",
      "Epoch 6/10\n",
      "52/52 [==============================] - 45s 864ms/step - loss: 0.3359 - accuracy: 0.8628 - val_loss: 0.3673 - val_accuracy: 0.8558\n",
      "Epoch 7/10\n",
      "52/52 [==============================] - 45s 861ms/step - loss: 0.3034 - accuracy: 0.8837 - val_loss: 0.3693 - val_accuracy: 0.8515\n",
      "Epoch 8/10\n",
      "52/52 [==============================] - 44s 856ms/step - loss: 0.2726 - accuracy: 0.8948 - val_loss: 0.3425 - val_accuracy: 0.8600\n",
      "Epoch 9/10\n",
      "52/52 [==============================] - 45s 858ms/step - loss: 0.2385 - accuracy: 0.9092 - val_loss: 0.3342 - val_accuracy: 0.8727\n",
      "Epoch 10/10\n",
      "52/52 [==============================] - 45s 858ms/step - loss: 0.2107 - accuracy: 0.9172 - val_loss: 0.3370 - val_accuracy: 0.8763\n"
     ]
    }
   ],
   "source": [
    "batch_size = 128\n",
    "num_epoch = 10\n",
    "\n",
    "mc = ModelCheckpoint('../models/phishing-web.h5', save_best_only=True, save_weights_only=True)\n",
    "model_log = model.fit(trainX, trainY,\n",
    "          batch_size=batch_size,\n",
    "          epochs=num_epoch,\n",
    "          verbose=1,\n",
    "          validation_data=( validX,  validY),\n",
    "          callbacks=[mc]\n",
    "                     )"
   ]
  },
  {
   "cell_type": "code",
   "execution_count": 15,
   "metadata": {},
   "outputs": [
    {
     "name": "stdout",
     "output_type": "stream",
     "text": [
      "65/65 [==============================] - 4s 59ms/step\n",
      "              precision    recall  f1-score   support\n",
      "\n",
      "           0     0.9036    0.8879    0.8957      1204\n",
      "           1     0.8480    0.8685    0.8581       867\n",
      "\n",
      "    accuracy                         0.8798      2071\n",
      "   macro avg     0.8758    0.8782    0.8769      2071\n",
      "weighted avg     0.8803    0.8798    0.8800      2071\n",
      "\n",
      "[[1069  135]\n",
      " [ 114  753]]\n",
      "      TPR       FPR       FNR\n",
      "   0.8685    0.1121    0.1315\n"
     ]
    }
   ],
   "source": [
    "model.load_weights('../models/phishing-web.h5')\n",
    "\n",
    "y_prob = model.predict(testX)\n",
    "threshold = 0.5\n",
    "y_pred = (y_prob > threshold).astype(int)\n",
    "\n",
    "clf_report = metrics.classification_report(testY, y_pred, digits=4)\n",
    "cnf_matrix = metrics.confusion_matrix(testY, y_pred)\n",
    "TN, FP, FN, TP = cnf_matrix.ravel()\n",
    "TPR = TP / (TP + FN)\n",
    "FPR = FP / (FP + TN)\n",
    "FNR = FN / (FN + TP)\n",
    "\n",
    "other_metrics = pd.DataFrame({'TPR': '%.4f' % TPR, \n",
    "                              'FPR': '%.4f' % FPR, \n",
    "                              'FNR': '%.4f' % FNR\n",
    "                              }, index=[0]).to_string(col_space=9, index=False)\n",
    "print(clf_report)\n",
    "print(cnf_matrix)\n",
    "print(other_metrics)"
   ]
  },
  {
   "cell_type": "code",
   "execution_count": 56,
   "metadata": {},
   "outputs": [
    {
     "name": "stdout",
     "output_type": "stream",
     "text": [
      "1/1 [==============================] - 0s 17ms/step\n",
      "Prediction: 0\n"
     ]
    }
   ],
   "source": [
    "def phishing_web_predict(model, sentence):\n",
    "    preprocessed_sentence = convert_to_ascii(sentence)\n",
    "    x = np.asarray(preprocessed_sentence, dtype='float')\n",
    "    x = cv2.resize(x, dsize=(100, 100), interpolation=cv2.INTER_CUBIC)\n",
    "    x /= 128\n",
    "    x = np.expand_dims(x, axis=0) \n",
    "    x = np.expand_dims(x, axis=-1) \n",
    "    \n",
    "    prediction = model.predict(x)\n",
    "    \n",
    "    return prediction[0][0]\n",
    "\n",
    "def get_html_from_url(url):\n",
    "    try:\n",
    "        response = requests.get(url)\n",
    "        response.raise_for_status()\n",
    "        return response.text\n",
    "    except requests.exceptions.RequestException as e:\n",
    "        print(\"Error while getting HTML\", e)\n",
    "        return None\n",
    "\n",
    "test_url = \"https://google.com\"\n",
    "\n",
    "your_sentence = get_html_from_url(test_url)\n",
    "prediction = phishing_web_predict(model, your_sentence)\n",
    "if prediction > 0.5:\n",
    "    print(\"Prediction: 1\")\n",
    "else:\n",
    "    print(\"Prediction: 0\")\n"
   ]
  }
 ],
 "metadata": {
  "kernelspec": {
   "display_name": "Python 3",
   "language": "python",
   "name": "python3"
  },
  "language_info": {
   "codemirror_mode": {
    "name": "ipython",
    "version": 3
   },
   "file_extension": ".py",
   "mimetype": "text/x-python",
   "name": "python",
   "nbconvert_exporter": "python",
   "pygments_lexer": "ipython3",
   "version": "3.11.8"
  }
 },
 "nbformat": 4,
 "nbformat_minor": 2
}
